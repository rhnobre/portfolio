{
  "nbformat": 4,
  "nbformat_minor": 0,
  "metadata": {
    "kernelspec": {
      "display_name": "Python 3",
      "language": "python",
      "name": "python3"
    },
    "language_info": {
      "codemirror_mode": {
        "name": "ipython",
        "version": 3
      },
      "file_extension": ".py",
      "mimetype": "text/x-python",
      "name": "python",
      "nbconvert_exporter": "python",
      "pygments_lexer": "ipython3",
      "version": "3.7.3"
    },
    "colab": {
      "name": "Como Implementar Regressão Linear com Python.ipynb",
      "provenance": []
    }
  },
  "cells": [
    {
      "cell_type": "code",
      "metadata": {
        "id": "IA5jSmqKRO1V"
      },
      "source": [
        "# importar pacotes necessários\n",
        "import numpy as np\n",
        "import matplotlib.pyplot as plt\n",
        "\n",
        "%matplotlib inline"
      ],
      "execution_count": null,
      "outputs": []
    },
    {
      "cell_type": "markdown",
      "metadata": {
        "id": "4TNtx8MrRO1a"
      },
      "source": [
        "# Como Implementar Regressão Linear com Python?\n",
        "\n",
        "O campo de *Machine Learning* oferece tantas opções de algoritmos que é muito difícil alguém conehcer todos e se manter atualizado a cada dia.\n",
        "\n",
        "A escolha do algoritmo correto tem um enorme impacto na qualidade da solução, por isso é importante não apenas usar uma biblioteca pronta (sem ter a mínima ideia do que está por trás), mas ter pelo menos uma noção da teoria por trás dos modelos e algoritmos que você implementa.\n",
        "\n",
        "Uma das primeiras técnicas que a(o) cientista de dados costuma ter contato no começo dos seus estudos é a Análise de Regressão, onde aprende a implementar um modelo de Regressão Linear Simples.\n",
        "\n",
        "<img src=\"img/linha_regressao.gif\" width=\"400\"/>\n",
        "\n",
        "Entretanto, muita gente acaba apenas decorando como usar o ```scikit-learn``` e nunca mais vais atrás do conceito estatístico que está por trás da Regressão Linear.\n",
        "\n",
        "Neste post, que trazer uma conceituação um pouco mais aprofundada que o normal, porém sem exagerar em formalidade/rigor matemático. O objetivo é apenas convidar você a despertar esse lado curioso pelas coisas que implementamos no dia-a-dia, afinal é isso que vai te destacar da média.\n",
        "\n",
        "O objetivo é apenas convidar você a despertar esse lado curioso pelas coisas que implementamos no dia-a-dia, afinal é isso que vai te destacar da média."
      ]
    },
    {
      "cell_type": "markdown",
      "metadata": {
        "id": "N-kt2dDwRO1c"
      },
      "source": [
        "## O que é Análise de Regressão?\n",
        "\n",
        "O objetivo da análise de regressão é explorar o relacionamento existente entre duas ou mais variáveis, visando obter informações sobre uma delas a partir dos valores conhecidas das outras.\n",
        "\n",
        "Confuso? Simplificadamente, a frase aí de cima quis dizer que a análise de regressão busca entender o relacionamento entre variáveis, e esse relacionamento pode ser representado por uma equação matemática. \n",
        "\n",
        "<img src=\"img/regressao_linear_ex.png\" alt=\"Regressão Linear\" width=\"300\"/>\n",
        "\n",
        "Vamos supor que você queira saber o preço de venda de uma casa sua e acredita que existe um relacionamento entre as variáveis que você está considerando (área construída, número de quartos e localização) com o preço que você pode pedir nela.\n",
        "\n",
        "Seria possível fazer uma análise de regressão, baseado nas outras casas da cidade para estimar o preço de venda da sua, após obter os pesos para os parâmetros em um modelo de Machine Learning.\n",
        "\n",
        "### Relação não determinística\n",
        "\n",
        "Um ponto importante mas muito desconhecido é que nos nossos problemas do cotidiano, muitas variáveis x e y aparentam estar relacionadas uma com a outra, porém **de maneira não determinística**.\n",
        "\n",
        "Uma relação determínistica, por exemplo, é quando  queremos saber a distância percorrida por um carro, mantendo velocidade constante $v$ ao longo de $\\Delta t$ segundos. Nesse exemplo, sabemos que a distância percorrida será $\\Delta s = v * \\Delta t$, pois as variáveis estão relacionadas deterministicamente.\n",
        "\n",
        "Um exemplo de variáveis relacionadas de maneira não determinística é se quisessemos saber $y = \\text{tamanho do vocabulário de uma criança}$ sendo $x = \\text{idade dessa criança}$."
      ]
    },
    {
      "cell_type": "code",
      "metadata": {
        "id": "j9A0KsBKRO1h",
        "outputId": "a8bbc4bd-2acd-4cae-e973-799e862bf46e"
      },
      "source": [
        "# exemplo de plots determinísticos\n",
        "np.random.seed(42)\n",
        "det_x = np.arange(0,10,0.1)\n",
        "det_y = 2 * det_x + 3\n",
        "\n",
        "# exemplo de plots não determinísticos\n",
        "non_det_x = np.arange(0, 10, 0.1)\n",
        "non_det_y = 2 * non_det_x + np.random.normal(size=100)\n",
        "\n",
        "# plotar determinísticos vs. não determinísticos\n",
        "fig, axs = plt.subplots(1, 2, figsize=(10,4), constrained_layout=True)\n",
        "\n",
        "axs[0].scatter(det_x, det_y, s=2)\n",
        "axs[0].set_title(\"Determinístico\")\n",
        "\n",
        "axs[1].scatter(non_det_x, non_det_y, s=2)\n",
        "axs[1].set_title(\"Não Determinístico\")\n",
        "\n",
        "plt.show()"
      ],
      "execution_count": null,
      "outputs": [
        {
          "output_type": "display_data",
          "data": {
            "image/png": "[encoded data removed]",
            "text/plain": [
              "<Figure size 720x288 with 2 Axes>"
            ]
          },
          "metadata": {
            "tags": [],
            "needs_background": "light"
          }
        }
      ]
    },
    {
      "cell_type": "markdown",
      "metadata": {
        "id": "17sQ-LSmRO1j"
      },
      "source": [
        "Olhando rapidamente você já consegue ver uma diferença importante, que apesar dos dois gráficos estarem mostrando pontos que se espalham sobre uma “reta virtual”, um deles não segue um padrão exato, determinístico. Parece que há algum tipo de aleatoriedade envolvida.\n",
        "\n",
        "Ou seja, nos modelos de Regressão Linear que usamos em Machine Learning, não temos uma relação perfeita entre as variáveis, pois as observações do dataset não cabem exatamente em uma reta.\n",
        "\n",
        "Isso significa que temos um modelo probabilístico, que captura a aleatoriedade que é inerente de qualquer processo do mundo real.\n",
        "\n",
        "Pense, você consegue traçar uma reta pegando todos os pontos no gráfico da esquerda? E consegue traçar uma reta pegando todos os pontos no gráfico da direita?\n",
        "\n",
        "Voltando para aquele exemplo de vender sua casa, basta imaginar que seu vizinho tem uma casa do mesmo tamanho, mesmo número de quartos, mesma localização, porém elas dificilmente teriam o mesmo preço exato."
      ]
    },
    {
      "cell_type": "markdown",
      "metadata": {
        "id": "0l2a0uv4RO1k"
      },
      "source": [
        "## O modelo de regressão linear simples\n",
        "\n",
        "Para representar a relação entre uma variável dependente ($y$) e uma variável independente ($x$), usamos o modelo\n",
        "\n",
        "$$y = \\beta_0 + \\beta_1 x + \\varepsilon$$\n",
        "\n",
        "que determina uma linha reta com inclinação $\\beta_1$ e intercepto $\\beta_0$, com a variável aleatória (erro) $\\varepsilon$, considerada normalmente distribuída com $E(\\varepsilon) = 0$ e $V(\\varepsilon) = \\sigma^2$.\n",
        "\n",
        "Para simplificar, vamos assumir a premissa de que o valor médio da variável $\\varepsilon$ para um dado valor de $x$ é $0$. Dessa maneira, a equação da seguinte forma:\n",
        "\n",
        "$$y = \\beta_0 + \\beta_1 x$$\n",
        "\n",
        "Quando a gente implementa um modelo de Regressão Linear com o ```scikit-learn```, a gente quer encontrar os valores dos parâmetros $\\beta_0$ e $\\beta_1$ que melhor representam o relacionamento entre as variáveis.\n",
        "\n",
        "Antes de você chamar o ```fit()``` do seu modelo, $\\beta_0$ e $\\beta_1$ são parâmetros totalmente desconhecidos. \n",
        "\n",
        "<img src=\"img/retas_regressao_linear.png\" width=\"300\"/>\n",
        "\n",
        "Olhando no gráfico acima, você é capaz de dizer qual reta seria mais plausível?\n",
        "\n",
        "Parece óbvio que é a reta verde, porém não seria possível essa análise visual caso tivessemos centenas de variáveis. E também temos um problema, o computador não consegue \"olhar\" para ver qual reta fica melhor.\n",
        "\n",
        "A questão é, como encontrar boas estimativas de $\\beta_0$ e $\\beta_1$ para que nosso modelo forneca boas estimativas?\n",
        "\n",
        "*Se até agora tudo ainda está confuso para você e você não consegue enxergar uma reta na equação acima, eu aconselho você [revisar a equação fundamental da reta](https://pt.khanacademy.org/math/algebra/two-var-linear-equations/point-slope/v/idea-behind-point-slope-form), que ficou esquecida na sua cabeça desde a época de ensino médio.*"
      ]
    },
    {
      "cell_type": "markdown",
      "metadata": {
        "id": "s_UH9efmRO1l"
      },
      "source": [
        "### Estimando os parâmetros de Modelo\n",
        "\n",
        "De acordo com [Devore](https://www.amazon.com.br/Probabilidade-estat%C3%ADstica-para-engenharia-ciências/dp/8522111839/ref=sr_1_1?__mk_pt_BR=ÅMÅŽÕÑ&keywords=devore&qid=1564349463&s=gateway&sr=8-1), um método usado para verificar se uma reta oferece um bom ajuste aos dados é o **Método dos Mínimos Quadrados**.\n",
        "\n",
        "De acordo com esse método, o desvio vertical do ponto $(x_i, y_i)$ da reta $y=\\beta_0 + \\beta_1x$ é:\n",
        "\n",
        "$$\\text{altura do ponto} - \\text{altura da reta} = y_i = (\\beta_0 + \\beta_1 x_i)$$\n",
        "\n",
        "A soma dos quadrados de tais desvios verticais dos pontos $(x_1, y_1), \\dots, (x_n, y_n)$ à reta é, portanto,\n",
        "\n",
        "$$f(\\beta_0, \\beta_1) = \\sum_{i=1}^{n}[y_i - (\\beta_0 + \\beta_1x_i)]^2$$\n",
        "\n",
        "Uma reta é razoável se as distâncias verticais (desvios) dos pontos analisados em relação à reta são pequenas.\n",
        "\n",
        "<img src=\"img/desvios_reta.png\" width=\"400\"/>\n",
        "\n",
        "Ou seja, a reta que tem o melhor ajuste possível é aquela na qual se tem a menor soma possível de desvios quadrados.\n",
        "\n",
        "Os valores de minimização $\\beta_0$ e $\\beta_1$ são encontrados quando se resolvem as derivadas parciais abaixo, igualando-as a $0$.\n",
        "\n",
        "$$\\frac{\\partial f(\\beta_0, \\beta_1)}{\\partial \\beta_0} = \\sum 2(y_i - \\beta_0 - \\beta_1 x_i)(-1) = 0$$\n",
        "\n",
        "e\n",
        "\n",
        "$$\\frac{\\partial f(\\beta_0, \\beta_1)}{\\partial \\beta_1} = \\sum 2(y_i - \\beta_0 - \\beta_1 x_i)(-x_i) = 0$$\n",
        "\n",
        "Essa etapa requer um conhecimento mais avançado de cálculo, e eu não vou entrar em mais detalhes. Tudo que você precisa saber é que a cada iteração do algoritmo a gente espera encontrar a menor soma possível de desvios quadrados."
      ]
    },
    {
      "cell_type": "markdown",
      "metadata": {
        "id": "uCqyzPOORO1m"
      },
      "source": [
        "## Implementando Regressão Linear com Python"
      ]
    },
    {
      "cell_type": "markdown",
      "metadata": {
        "id": "SwQNZpSORO1m"
      },
      "source": [
        "Para ver na prática uma aplicação simples e direta da Regressão Linear, vamos usar as variáveis que plotamos lá em cima, ```non_det_x``` e ```non_det_y```.\n",
        "\n",
        "Lembrando que aqui eu estou ignorando completamente as etapas de split entre datasets de treino e teste ou qualquer outro tipo de etapa. O objetivo é apenas encontrar uma reta com um fit ideal aos nossos pontos."
      ]
    },
    {
      "cell_type": "code",
      "metadata": {
        "id": "jAwQe7rmRO1n"
      },
      "source": [
        "# importar os pacotes necessários\n",
        "from sklearn.datasets import load_diabetes\n",
        "from sklearn.linear_model import LinearRegression\n",
        "from sklearn.metrics import mean_squared_error"
      ],
      "execution_count": null,
      "outputs": []
    },
    {
      "cell_type": "markdown",
      "metadata": {
        "id": "BLGO27FFRO1n"
      },
      "source": [
        "Como temos apenas uma variável, nosso ```x``` é um vetor (1 dimensão).\n",
        "\n",
        "Após minimizar a função custo e encontrar o melhor *fit* os parâmetros da equação da reta que buscamos estarão armazenados como atributos de ```lm_model```, onde $\\beta_0 = \\text{intercept_}$ e $\\beta_1 = \\text{coef_}$.\n",
        "\n",
        "Imprimindo esses parâmetros a gente vê quais valores numéricos melhor representam nossa reta para o modelo de Regressão Linear:"
      ]
    },
    {
      "cell_type": "code",
      "metadata": {
        "id": "2ddMcROpRO1o"
      },
      "source": [
        "# criar modelo linear e otimizar\n",
        "lm_model = LinearRegression()\n",
        "lm_model.fit(non_det_x.reshape(-1,1), non_det_y)\n",
        "\n",
        "# extrair coeficientes\n",
        "slope = lm_model.coef_\n",
        "intercept = lm_model.intercept_"
      ],
      "execution_count": null,
      "outputs": []
    },
    {
      "cell_type": "code",
      "metadata": {
        "id": "ukCqFg0kRO1o",
        "outputId": "ec793705-ca36-4525-fa5b-83326a09e061"
      },
      "source": [
        "print(\"b0: \\t{}\".format(intercept))\n",
        "print(\"b1: \\t{}\".format(slope[0]))"
      ],
      "execution_count": null,
      "outputs": [
        {
          "output_type": "stream",
          "text": [
            "b0: \t-0.17281285407737457\n",
            "b1: \t2.0139325932693497\n"
          ],
          "name": "stdout"
        }
      ]
    },
    {
      "cell_type": "markdown",
      "metadata": {
        "id": "nMWHCOgmRO1p"
      },
      "source": [
        "E agora vamos plotar a reta, com os valores de parâmetros obtidos, sobreponde ela aos pontos e ver como essa solução parece plausível visualmente."
      ]
    },
    {
      "cell_type": "code",
      "metadata": {
        "id": "ouNrIq49RO1p",
        "outputId": "96f6fe5e-0ea5-487f-9e61-4750f3611dfa"
      },
      "source": [
        "# plotar pontos e retas com parâmetros otimizados\n",
        "plt.scatter(non_det_x, non_det_y, s=3)\n",
        "plt.plot(non_det_x, (non_det_x * slope + intercept), color='r')\n",
        "\n",
        "plt.show()"
      ],
      "execution_count": null,
      "outputs": [
        {
          "output_type": "display_data",
          "data": {
            "image/png": "[encoded data removed]",
            "text/plain": [
              "<Figure size 432x288 with 1 Axes>"
            ]
          },
          "metadata": {
            "tags": [],
            "needs_background": "light"
          }
        }
      ]
    },
    {
      "cell_type": "markdown",
      "metadata": {
        "id": "0acgBEz1RO1p"
      },
      "source": [
        "E é isso! Essa solução parece de fato atender o nosso problema.\n",
        "\n",
        "Agora você sabe não apenas implementar uma Regressão Linear, que é feito com pouquíssimas linhas de código, mas consegue entender a lógica por trás do código :)"
      ]
    },
    {
      "cell_type": "markdown",
      "metadata": {
        "id": "6fxbB090RO1q"
      },
      "source": [
        "## Resumo\n",
        "\n",
        "Eu aposto que agora você conseguiu entender o funcionamento básico de um modelo de Regressão Linear, vendo tanto visualmente (como a reta vai “melhorando” a cada iteração) quanto absorvendo conceitos (com a matemática que foi exposta).\n",
        "\n",
        "Este artigo foi muito mais teórico que aplicação de técnicas de Data Science ou Machine Learning, e tudo isso propositalmente. Ao limitar para uma variável, conseguimos realizar os plots em 2 dimensões  e acompanhar mais facilmente tudo.\n",
        "\n",
        "Obviamente, todo essa teoria pode ser extrapolada para problemas mais complexos envolvendo múltiplas variáveis. A lógica é a mesma!\n",
        "\n",
        "Tenha sempre consciência da importância de ir além da pura e simples aplicação de código. Faça isso para Redes Neurais, Regressão Logística, XGBoost, mas nunca aceite sem entender.\n",
        "\n",
        "Lembre-se que o que vai te diferenciar das outras pessoas, da média, é o conceito que você sabe a mais e a criatividade para pensar em soluções fora-da-caixa. "
      ]
    },
    {
      "cell_type": "code",
      "metadata": {
        "id": "Nlemps0aRO1q"
      },
      "source": [
        ""
      ],
      "execution_count": null,
      "outputs": []
    }
  ]
}